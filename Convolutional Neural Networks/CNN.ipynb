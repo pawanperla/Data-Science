{
  "nbformat": 4,
  "nbformat_minor": 0,
  "metadata": {
    "colab": {
      "provenance": []
    },
    "kernelspec": {
      "name": "python3",
      "display_name": "Python 3"
    },
    "language_info": {
      "name": "python"
    }
  },
  "cells": [
    {
      "cell_type": "markdown",
      "source": [
        "# Importing Libraries"
      ],
      "metadata": {
        "id": "mpw-tC_yl27t"
      }
    },
    {
      "cell_type": "code",
      "source": [
        "from tensorflow.keras.models import Sequential\n",
        "from tensorflow.keras.layers import Dense\n",
        "from tensorflow.keras.layers import Convolution2D\n",
        "from tensorflow.keras.layers import MaxPooling2D\n",
        "from tensorflow.keras.layers import Flatten"
      ],
      "metadata": {
        "id": "5OLqoP_wl07l"
      },
      "execution_count": 1,
      "outputs": []
    },
    {
      "cell_type": "markdown",
      "source": [
        "# Importing Image Dataset"
      ],
      "metadata": {
        "id": "sJ-rmxEuluxW"
      }
    },
    {
      "cell_type": "code",
      "source": [
        "!pip install -q kaggle\n",
        "!mkdir ~/.kaggle"
      ],
      "metadata": {
        "id": "JMK3Aij7k-bk"
      },
      "execution_count": 2,
      "outputs": []
    },
    {
      "cell_type": "code",
      "source": [
        "!cp kaggle.json ~/.kaggle"
      ],
      "metadata": {
        "id": "PSQco3i1k-eY"
      },
      "execution_count": 3,
      "outputs": []
    },
    {
      "cell_type": "code",
      "source": [
        "!kaggle datasets download -d saumyamohandas/animal-dataset"
      ],
      "metadata": {
        "colab": {
          "base_uri": "https://localhost:8080/"
        },
        "id": "PsO7lyDok-hQ",
        "outputId": "b63635cb-8d13-452b-8cdf-a67045363709"
      },
      "execution_count": 4,
      "outputs": [
        {
          "output_type": "stream",
          "name": "stdout",
          "text": [
            "Warning: Your Kaggle API key is readable by other users on this system! To fix this, you can run 'chmod 600 /root/.kaggle/kaggle.json'\n",
            "Downloading animal-dataset.zip to /content\n",
            "100% 62.0M/62.3M [00:00<00:00, 97.2MB/s]\n",
            "100% 62.3M/62.3M [00:00<00:00, 96.9MB/s]\n"
          ]
        }
      ]
    },
    {
      "cell_type": "code",
      "source": [
        "!unzip /content/animal-dataset.zip"
      ],
      "metadata": {
        "id": "UZZM4uC_lQjt"
      },
      "execution_count": null,
      "outputs": []
    },
    {
      "cell_type": "markdown",
      "source": [
        "# Image Pre Processing\n"
      ],
      "metadata": {
        "id": "1jLwlwKemFru"
      }
    },
    {
      "cell_type": "code",
      "source": [
        "from keras.preprocessing.image import ImageDataGenerator"
      ],
      "metadata": {
        "id": "bTbjdzXrmKj9"
      },
      "execution_count": 6,
      "outputs": []
    },
    {
      "cell_type": "code",
      "source": [
        "train_datagen=ImageDataGenerator(rescale=1./255,shear_range=0.2,zoom_range=0.2,horizontal_flip=True)\n",
        "test_datagen=ImageDataGenerator(rescale=1./255)"
      ],
      "metadata": {
        "id": "rtDzAc82mLZW"
      },
      "execution_count": 7,
      "outputs": []
    },
    {
      "cell_type": "code",
      "source": [
        "x_train=train_datagen.flow_from_directory(r'/content/dataset/Training',target_size=(64,64),batch_size=32,class_mode=\"categorical\")\n",
        "x_test = test_datagen.flow_from_directory(r'/content/dataset/Testing',target_size = (64,64),batch_size = 32 , class_mode = 'categorical')"
      ],
      "metadata": {
        "colab": {
          "base_uri": "https://localhost:8080/"
        },
        "id": "axEryZHYmLZ_",
        "outputId": "ba6aeb1c-7e4c-4064-a8d8-64f00fa37b3c"
      },
      "execution_count": 16,
      "outputs": [
        {
          "output_type": "stream",
          "name": "stdout",
          "text": [
            "Found 1238 images belonging to 4 classes.\n",
            "Found 326 images belonging to 4 classes.\n"
          ]
        }
      ]
    },
    {
      "cell_type": "code",
      "source": [
        "print(x_train.class_indices)"
      ],
      "metadata": {
        "colab": {
          "base_uri": "https://localhost:8080/"
        },
        "id": "22dOiNdrmLcN",
        "outputId": "61c34ce4-9e3c-4415-9bc0-f1e50dc3b4b8"
      },
      "execution_count": 17,
      "outputs": [
        {
          "output_type": "stream",
          "name": "stdout",
          "text": [
            "{'bears': 0, 'crows': 1, 'elephants': 2, 'rats': 3}\n"
          ]
        }
      ]
    },
    {
      "cell_type": "markdown",
      "source": [
        "# Model Building\n"
      ],
      "metadata": {
        "id": "RhrxPw1irDnz"
      }
    },
    {
      "cell_type": "code",
      "source": [
        "model = Sequential()"
      ],
      "metadata": {
        "id": "UmF0uyzlmLej"
      },
      "execution_count": 8,
      "outputs": []
    },
    {
      "cell_type": "code",
      "source": [
        "model.add(Convolution2D(32,(3,3),input_shape = (64,64,3),activation=\"relu\"))"
      ],
      "metadata": {
        "id": "G39s2qg_mLhJ"
      },
      "execution_count": 9,
      "outputs": []
    },
    {
      "cell_type": "code",
      "source": [
        "model.add(MaxPooling2D(pool_size=(2,2)))"
      ],
      "metadata": {
        "id": "ez9AWEoymLjv"
      },
      "execution_count": 10,
      "outputs": []
    },
    {
      "cell_type": "code",
      "source": [
        "model.add(Flatten())"
      ],
      "metadata": {
        "id": "_kiRXi4QxzGC"
      },
      "execution_count": 11,
      "outputs": []
    },
    {
      "cell_type": "code",
      "source": [
        "model.add(Dense(units=128,activation=\"relu\"))"
      ],
      "metadata": {
        "id": "CUKlk1p7xzG2"
      },
      "execution_count": 12,
      "outputs": []
    },
    {
      "cell_type": "code",
      "source": [
        "model.add(Dense(units=4,activation=\"softmax\"))"
      ],
      "metadata": {
        "id": "QMd8FhwkxzIm"
      },
      "execution_count": 13,
      "outputs": []
    },
    {
      "cell_type": "code",
      "source": [
        "#Compile the model (loss fucntion,accuracy,optimizer)\n",
        "model.compile(loss=\"categorical_crossentropy\",optimizer=\"adam\",metrics=\"accuracy\")"
      ],
      "metadata": {
        "id": "BYN6mo1VxzPY"
      },
      "execution_count": 14,
      "outputs": []
    },
    {
      "cell_type": "code",
      "source": [
        "model.fit_generator(x_train,steps_per_epoch= 39,epochs = 10,validation_data = x_test,validation_steps = 10)"
      ],
      "metadata": {
        "id": "LPO3-1JZxzRd",
        "colab": {
          "base_uri": "https://localhost:8080/"
        },
        "outputId": "9144201f-39fb-4eaa-b7dc-cf9def95243e"
      },
      "execution_count": 18,
      "outputs": [
        {
          "output_type": "stream",
          "name": "stdout",
          "text": [
            "Epoch 1/10\n"
          ]
        },
        {
          "output_type": "stream",
          "name": "stderr",
          "text": [
            "<ipython-input-18-60bae3268c66>:1: UserWarning: `Model.fit_generator` is deprecated and will be removed in a future version. Please use `Model.fit`, which supports generators.\n",
            "  model.fit_generator(x_train,steps_per_epoch= 39,epochs = 10,validation_data = x_test,validation_steps = 10)\n"
          ]
        },
        {
          "output_type": "stream",
          "name": "stdout",
          "text": [
            "39/39 [==============================] - 6s 133ms/step - loss: 1.7292 - accuracy: 0.3417 - val_loss: 1.1960 - val_accuracy: 0.3906\n",
            "Epoch 2/10\n",
            "39/39 [==============================] - 5s 128ms/step - loss: 1.0190 - accuracy: 0.5824 - val_loss: 0.7684 - val_accuracy: 0.6719\n",
            "Epoch 3/10\n",
            "39/39 [==============================] - 6s 149ms/step - loss: 0.8254 - accuracy: 0.6793 - val_loss: 0.6891 - val_accuracy: 0.7250\n",
            "Epoch 4/10\n",
            "39/39 [==============================] - 6s 149ms/step - loss: 0.7108 - accuracy: 0.7318 - val_loss: 0.7207 - val_accuracy: 0.7094\n",
            "Epoch 5/10\n",
            "39/39 [==============================] - 5s 129ms/step - loss: 0.6559 - accuracy: 0.7447 - val_loss: 0.5579 - val_accuracy: 0.7906\n",
            "Epoch 6/10\n",
            "39/39 [==============================] - 6s 143ms/step - loss: 0.5899 - accuracy: 0.7690 - val_loss: 0.6660 - val_accuracy: 0.7656\n",
            "Epoch 7/10\n",
            "39/39 [==============================] - 5s 125ms/step - loss: 0.5229 - accuracy: 0.7989 - val_loss: 0.4477 - val_accuracy: 0.8250\n",
            "Epoch 8/10\n",
            "39/39 [==============================] - 6s 144ms/step - loss: 0.5003 - accuracy: 0.7997 - val_loss: 0.4418 - val_accuracy: 0.8406\n",
            "Epoch 9/10\n",
            "39/39 [==============================] - 5s 129ms/step - loss: 0.4539 - accuracy: 0.8368 - val_loss: 0.3280 - val_accuracy: 0.8844\n",
            "Epoch 10/10\n",
            "39/39 [==============================] - 6s 150ms/step - loss: 0.4262 - accuracy: 0.8457 - val_loss: 0.3250 - val_accuracy: 0.8781\n"
          ]
        },
        {
          "output_type": "execute_result",
          "data": {
            "text/plain": [
              "<keras.src.callbacks.History at 0x7da50c3d0ee0>"
            ]
          },
          "metadata": {},
          "execution_count": 18
        }
      ]
    },
    {
      "cell_type": "code",
      "source": [
        "# steps per epoch  =  no.of samples in your trainingset/batch size\n",
        "# 1238/32=38.6=39"
      ],
      "metadata": {
        "id": "byUUPVmtYD9Q"
      },
      "execution_count": null,
      "outputs": []
    },
    {
      "cell_type": "code",
      "source": [
        "model.summary()"
      ],
      "metadata": {
        "colab": {
          "base_uri": "https://localhost:8080/"
        },
        "id": "s1UHeduAYD-D",
        "outputId": "257fa185-e638-47f9-b1f8-578f90a56c97"
      },
      "execution_count": 19,
      "outputs": [
        {
          "output_type": "stream",
          "name": "stdout",
          "text": [
            "Model: \"sequential\"\n",
            "_________________________________________________________________\n",
            " Layer (type)                Output Shape              Param #   \n",
            "=================================================================\n",
            " conv2d (Conv2D)             (None, 62, 62, 32)        896       \n",
            "                                                                 \n",
            " max_pooling2d (MaxPooling2  (None, 31, 31, 32)        0         \n",
            " D)                                                              \n",
            "                                                                 \n",
            " flatten (Flatten)           (None, 30752)             0         \n",
            "                                                                 \n",
            " dense (Dense)               (None, 128)               3936384   \n",
            "                                                                 \n",
            " dense_1 (Dense)             (None, 4)                 516       \n",
            "                                                                 \n",
            "=================================================================\n",
            "Total params: 3937796 (15.02 MB)\n",
            "Trainable params: 3937796 (15.02 MB)\n",
            "Non-trainable params: 0 (0.00 Byte)\n",
            "_________________________________________________________________\n"
          ]
        }
      ]
    },
    {
      "cell_type": "code",
      "source": [
        "model.save(\"animal.keras\")"
      ],
      "metadata": {
        "id": "nnTSZr-_YD_3"
      },
      "execution_count": 21,
      "outputs": []
    },
    {
      "cell_type": "markdown",
      "source": [
        "# Testing Model"
      ],
      "metadata": {
        "id": "MO-gn76xi_Jz"
      }
    },
    {
      "cell_type": "code",
      "source": [
        "from tensorflow.keras.models import load_model\n",
        "from tensorflow.keras.preprocessing import image\n",
        "import numpy as np"
      ],
      "metadata": {
        "id": "e_G80u9VYECM"
      },
      "execution_count": 22,
      "outputs": []
    },
    {
      "cell_type": "code",
      "source": [
        "import tensorflow as tf"
      ],
      "metadata": {
        "id": "Di8kWl-IYEEl"
      },
      "execution_count": 23,
      "outputs": []
    },
    {
      "cell_type": "code",
      "source": [
        "model=tf.keras.models.load_model(r\"animal.keras\",compile=False)"
      ],
      "metadata": {
        "id": "nWXFVccNcfjU"
      },
      "execution_count": 24,
      "outputs": []
    },
    {
      "cell_type": "code",
      "source": [
        "img=image.load_img(r\"elephant.jpeg\",target_size=(64,64))"
      ],
      "metadata": {
        "id": "Pa17ZAR9cfmI"
      },
      "execution_count": 25,
      "outputs": []
    },
    {
      "cell_type": "code",
      "source": [
        "img"
      ],
      "metadata": {
        "colab": {
          "base_uri": "https://localhost:8080/",
          "height": 81
        },
        "id": "hj5__dldcfow",
        "outputId": "bbdf279c-b111-4c15-bde6-9eab862c021e"
      },
      "execution_count": 26,
      "outputs": [
        {
          "output_type": "execute_result",
          "data": {
            "text/plain": [
              "<PIL.Image.Image image mode=RGB size=64x64>"
            ],
            "image/png": "[encoded data removed]"
          },
          "metadata": {},
          "execution_count": 26
        }
      ]
    },
    {
      "cell_type": "code",
      "source": [
        "x=image.img_to_array(img)"
      ],
      "metadata": {
        "id": "Nu7iEwbxcfrG"
      },
      "execution_count": 27,
      "outputs": []
    },
    {
      "cell_type": "code",
      "source": [
        "x"
      ],
      "metadata": {
        "colab": {
          "base_uri": "https://localhost:8080/"
        },
        "id": "Gp8rGlqVceVi",
        "outputId": "a87a51be-fe39-47d4-92f0-d2beecdb8cf8"
      },
      "execution_count": 28,
      "outputs": [
        {
          "output_type": "execute_result",
          "data": {
            "text/plain": [
              "array([[[229., 233., 236.],\n",
              "        [227., 231., 234.],\n",
              "        [224., 229., 233.],\n",
              "        ...,\n",
              "        [217., 224., 230.],\n",
              "        [222., 227., 233.],\n",
              "        [225., 230., 236.]],\n",
              "\n",
              "       [[230., 234., 237.],\n",
              "        [227., 231., 234.],\n",
              "        [226., 230., 233.],\n",
              "        ...,\n",
              "        [221., 226., 232.],\n",
              "        [223., 228., 234.],\n",
              "        [225., 230., 236.]],\n",
              "\n",
              "       [[229., 233., 236.],\n",
              "        [228., 232., 235.],\n",
              "        [226., 230., 233.],\n",
              "        ...,\n",
              "        [222., 227., 233.],\n",
              "        [223., 228., 234.],\n",
              "        [226., 231., 237.]],\n",
              "\n",
              "       ...,\n",
              "\n",
              "       [[176., 162., 153.],\n",
              "        [167., 149., 139.],\n",
              "        [168., 151., 143.],\n",
              "        ...,\n",
              "        [157., 138., 131.],\n",
              "        [156., 142., 131.],\n",
              "        [154., 137., 129.]],\n",
              "\n",
              "       [[188., 171., 163.],\n",
              "        [156., 139., 131.],\n",
              "        [169., 152., 144.],\n",
              "        ...,\n",
              "        [142., 132., 123.],\n",
              "        [154., 137., 129.],\n",
              "        [157., 140., 130.]],\n",
              "\n",
              "       [[166., 147., 140.],\n",
              "        [167., 150., 142.],\n",
              "        [163., 146., 136.],\n",
              "        ...,\n",
              "        [138., 128., 126.],\n",
              "        [140., 130., 128.],\n",
              "        [145., 134., 130.]]], dtype=float32)"
            ]
          },
          "metadata": {},
          "execution_count": 28
        }
      ]
    },
    {
      "cell_type": "code",
      "source": [
        "x.shape"
      ],
      "metadata": {
        "colab": {
          "base_uri": "https://localhost:8080/"
        },
        "id": "alVFKNDggn4c",
        "outputId": "c7bfbcaa-a651-40f1-f874-4adec2bd64cc"
      },
      "execution_count": 29,
      "outputs": [
        {
          "output_type": "execute_result",
          "data": {
            "text/plain": [
              "(64, 64, 3)"
            ]
          },
          "metadata": {},
          "execution_count": 29
        }
      ]
    },
    {
      "cell_type": "code",
      "source": [
        "x=np.expand_dims(x,axis=0)"
      ],
      "metadata": {
        "id": "tuyG5grTgpE1"
      },
      "execution_count": 31,
      "outputs": []
    },
    {
      "cell_type": "code",
      "source": [
        "x.ndim"
      ],
      "metadata": {
        "colab": {
          "base_uri": "https://localhost:8080/"
        },
        "id": "pmTEKHltgpHY",
        "outputId": "73af8574-09b7-4e7b-faeb-86f3af57cdd2"
      },
      "execution_count": 32,
      "outputs": [
        {
          "output_type": "execute_result",
          "data": {
            "text/plain": [
              "4"
            ]
          },
          "metadata": {},
          "execution_count": 32
        }
      ]
    },
    {
      "cell_type": "code",
      "source": [
        "x.shape"
      ],
      "metadata": {
        "colab": {
          "base_uri": "https://localhost:8080/"
        },
        "id": "sNsw_Js6gpKB",
        "outputId": "d61fc2fd-a453-42dd-ae01-9da1a2b11c8b"
      },
      "execution_count": 33,
      "outputs": [
        {
          "output_type": "execute_result",
          "data": {
            "text/plain": [
              "(1, 64, 64, 3)"
            ]
          },
          "metadata": {},
          "execution_count": 33
        }
      ]
    },
    {
      "cell_type": "code",
      "source": [
        "pred=model.predict(x)"
      ],
      "metadata": {
        "colab": {
          "base_uri": "https://localhost:8080/"
        },
        "id": "BYpNf54DgpMm",
        "outputId": "5a864e41-c6da-468a-bc50-42935c0beb57"
      },
      "execution_count": 34,
      "outputs": [
        {
          "output_type": "stream",
          "name": "stdout",
          "text": [
            "1/1 [==============================] - 0s 82ms/step\n"
          ]
        }
      ]
    },
    {
      "cell_type": "code",
      "source": [
        "pred"
      ],
      "metadata": {
        "colab": {
          "base_uri": "https://localhost:8080/"
        },
        "id": "o70plBflgpO9",
        "outputId": "49a80e98-4b57-41a7-a2df-f5d19151a064"
      },
      "execution_count": 37,
      "outputs": [
        {
          "output_type": "execute_result",
          "data": {
            "text/plain": [
              "array([[0., 0., 1., 0.]], dtype=float32)"
            ]
          },
          "metadata": {},
          "execution_count": 37
        }
      ]
    }
  ]
}